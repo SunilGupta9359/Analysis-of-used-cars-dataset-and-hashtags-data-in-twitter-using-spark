{
 "cells": [
  {
   "cell_type": "code",
   "execution_count": 7,
   "id": "12674e40",
   "metadata": {},
   "outputs": [
    {
     "name": "stdout",
     "output_type": "stream",
     "text": [
      "<tweepy.api.API object at 0x0000025CF9DA9C10>\n",
      "{'trends': [{'name': '#TeachersDay', 'url': 'http://twitter.com/search?q=%23TeachersDay', 'promoted_content': None, 'query': '%23TeachersDay', 'tweet_volume': 155143}, {'name': '#MondayMotivation', 'url': 'http://twitter.com/search?q=%23MondayMotivation', 'promoted_content': None, 'query': '%23MondayMotivation', 'tweet_volume': 28933}, {'name': '#mondaythoughts', 'url': 'http://twitter.com/search?q=%23mondaythoughts', 'promoted_content': None, 'query': '%23mondaythoughts', 'tweet_volume': None}, {'name': '#Farmers_RoaringInUP', 'url': 'http://twitter.com/search?q=%23Farmers_RoaringInUP', 'promoted_content': None, 'query': '%23Farmers_RoaringInUP', 'tweet_volume': 59132}, {'name': '#INDvENG', 'url': 'http://twitter.com/search?q=%23INDvENG', 'promoted_content': None, 'query': '%23INDvENG', 'tweet_volume': 28099}, {'name': '3 Days', 'url': 'http://twitter.com/search?q=%223+Days%22', 'promoted_content': None, 'query': '%223+Days%22', 'tweet_volume': 552600}, {'name': 'Keymaker Mystery In SSR Case', 'url': 'http://twitter.com/search?q=%22Keymaker+Mystery+In+SSR+Case%22', 'promoted_content': None, 'query': '%22Keymaker+Mystery+In+SSR+Case%22', 'tweet_volume': 12123}, {'name': 'Avataran Diwas', 'url': 'http://twitter.com/search?q=%22Avataran+Diwas%22', 'promoted_content': None, 'query': '%22Avataran+Diwas%22', 'tweet_volume': 444523}, {'name': 'सर्वपल्ली राधाकृष्णन', 'url': 'http://twitter.com/search?q=%22%E0%A4%B8%E0%A4%B0%E0%A5%8D%E0%A4%B5%E0%A4%AA%E0%A4%B2%E0%A5%8D%E0%A4%B2%E0%A5%80+%E0%A4%B0%E0%A4%BE%E0%A4%A7%E0%A4%BE%E0%A4%95%E0%A5%83%E0%A4%B7%E0%A5%8D%E0%A4%A3%E0%A4%A8%22', 'promoted_content': None, 'query': '%22%E0%A4%B8%E0%A4%B0%E0%A5%8D%E0%A4%B5%E0%A4%AA%E0%A4%B2%E0%A5%8D%E0%A4%B2%E0%A5%80+%E0%A4%B0%E0%A4%BE%E0%A4%A7%E0%A4%BE%E0%A4%95%E0%A5%83%E0%A4%B7%E0%A5%8D%E0%A4%A3%E0%A4%A8%22', 'tweet_volume': 44164}, {'name': 'Adam Cole', 'url': 'http://twitter.com/search?q=%22Adam+Cole%22', 'promoted_content': None, 'query': '%22Adam+Cole%22', 'tweet_volume': 37091}, {'name': 'FILE CHARGESHEET IN SSR CASE', 'url': 'http://twitter.com/search?q=%22FILE+CHARGESHEET+IN+SSR+CASE%22', 'promoted_content': None, 'query': '%22FILE+CHARGESHEET+IN+SSR+CASE%22', 'tweet_volume': 16603}, {'name': 'Rahane', 'url': 'http://twitter.com/search?q=Rahane', 'promoted_content': None, 'query': 'Rahane', 'tweet_volume': 25058}, {'name': 'पूर्व राष्ट्रपति', 'url': 'http://twitter.com/search?q=%22%E0%A4%AA%E0%A5%82%E0%A4%B0%E0%A5%8D%E0%A4%B5+%E0%A4%B0%E0%A4%BE%E0%A4%B7%E0%A5%8D%E0%A4%9F%E0%A5%8D%E0%A4%B0%E0%A4%AA%E0%A4%A4%E0%A4%BF%22', 'promoted_content': None, 'query': '%22%E0%A4%AA%E0%A5%82%E0%A4%B0%E0%A5%8D%E0%A4%B5+%E0%A4%B0%E0%A4%BE%E0%A4%B7%E0%A5%8D%E0%A4%9F%E0%A5%8D%E0%A4%B0%E0%A4%AA%E0%A4%A4%E0%A4%BF%22', 'tweet_volume': 25704}, {'name': 'SSR Awakens A Generation', 'url': 'http://twitter.com/search?q=%22SSR+Awakens+A+Generation%22', 'promoted_content': None, 'query': '%22SSR+Awakens+A+Generation%22', 'tweet_volume': 58435}, {'name': 'Infosys', 'url': 'http://twitter.com/search?q=Infosys', 'promoted_content': None, 'query': 'Infosys', 'tweet_volume': 17944}, {'name': 'England', 'url': 'http://twitter.com/search?q=England', 'promoted_content': None, 'query': 'England', 'tweet_volume': 235024}, {'name': 'BTS UNO ON TMA', 'url': 'http://twitter.com/search?q=%22BTS+UNO+ON+TMA%22', 'promoted_content': None, 'query': '%22BTS+UNO+ON+TMA%22', 'tweet_volume': 100081}, {'name': 'Brazil', 'url': 'http://twitter.com/search?q=Brazil', 'promoted_content': None, 'query': 'Brazil', 'tweet_volume': 156819}, {'name': 'Daniel Bryan', 'url': 'http://twitter.com/search?q=%22Daniel+Bryan%22', 'promoted_content': None, 'query': '%22Daniel+Bryan%22', 'tweet_volume': None}, {'name': 'Har Har Mahadev', 'url': 'http://twitter.com/search?q=%22Har+Har+Mahadev%22', 'promoted_content': None, 'query': '%22Har+Har+Mahadev%22', 'tweet_volume': 11935}, {'name': 'Javed Akhtar', 'url': 'http://twitter.com/search?q=%22Javed+Akhtar%22', 'promoted_content': None, 'query': '%22Javed+Akhtar%22', 'tweet_volume': 20749}, {'name': 'happy 23rd pravisht', 'url': 'http://twitter.com/search?q=%22happy+23rd+pravisht%22', 'promoted_content': None, 'query': '%22happy+23rd+pravisht%22', 'tweet_volume': 18423}, {'name': 'श्री राम', 'url': 'http://twitter.com/search?q=%22%E0%A4%B6%E0%A5%8D%E0%A4%B0%E0%A5%80+%E0%A4%B0%E0%A4%BE%E0%A4%AE%22', 'promoted_content': None, 'query': '%22%E0%A4%B6%E0%A5%8D%E0%A4%B0%E0%A5%80+%E0%A4%B0%E0%A4%BE%E0%A4%AE%22', 'tweet_volume': 72470}, {'name': 'राष्ट्रीय सचिव', 'url': 'http://twitter.com/search?q=%22%E0%A4%B0%E0%A4%BE%E0%A4%B7%E0%A5%8D%E0%A4%9F%E0%A5%8D%E0%A4%B0%E0%A5%80%E0%A4%AF+%E0%A4%B8%E0%A4%9A%E0%A4%BF%E0%A4%B5%22', 'promoted_content': None, 'query': '%22%E0%A4%B0%E0%A4%BE%E0%A4%B7%E0%A5%8D%E0%A4%9F%E0%A5%8D%E0%A4%B0%E0%A5%80%E0%A4%AF+%E0%A4%B8%E0%A4%9A%E0%A4%BF%E0%A4%B5%22', 'tweet_volume': None}, {'name': 'SSR Disha Ko Insaaf Do', 'url': 'http://twitter.com/search?q=%22SSR+Disha+Ko+Insaaf+Do%22', 'promoted_content': None, 'query': '%22SSR+Disha+Ko+Insaaf+Do%22', 'tweet_volume': 71355}, {'name': 'Refute', 'url': 'http://twitter.com/search?q=Refute', 'promoted_content': None, 'query': 'Refute', 'tweet_volume': None}, {'name': 'द्वितीय राष्ट्रपति', 'url': 'http://twitter.com/search?q=%22%E0%A4%A6%E0%A5%8D%E0%A4%B5%E0%A4%BF%E0%A4%A4%E0%A5%80%E0%A4%AF+%E0%A4%B0%E0%A4%BE%E0%A4%B7%E0%A5%8D%E0%A4%9F%E0%A5%8D%E0%A4%B0%E0%A4%AA%E0%A4%A4%E0%A4%BF%22', 'promoted_content': None, 'query': '%22%E0%A4%A6%E0%A5%8D%E0%A4%B5%E0%A4%BF%E0%A4%A4%E0%A5%80%E0%A4%AF+%E0%A4%B0%E0%A4%BE%E0%A4%B7%E0%A5%8D%E0%A4%9F%E0%A5%8D%E0%A4%B0%E0%A4%AA%E0%A4%A4%E0%A4%BF%22', 'tweet_volume': None}, {'name': 'Meditation', 'url': 'http://twitter.com/search?q=Meditation', 'promoted_content': None, 'query': 'Meditation', 'tweet_volume': 34193}, {'name': 'SAAKK S2 HOJAYE BAS', 'url': 'http://twitter.com/search?q=%22SAAKK+S2+HOJAYE+BAS%22', 'promoted_content': None, 'query': '%22SAAKK+S2+HOJAYE+BAS%22', 'tweet_volume': 54009}, {'name': 'Run BTS', 'url': 'http://twitter.com/search?q=%22Run+BTS%22', 'promoted_content': None, 'query': '%22Run+BTS%22', 'tweet_volume': 38000}, {'name': 'Argentina', 'url': 'http://twitter.com/search?q=Argentina', 'promoted_content': None, 'query': 'Argentina', 'tweet_volume': 853937}, {'name': 'vmin', 'url': 'http://twitter.com/search?q=vmin', 'promoted_content': None, 'query': 'vmin', 'tweet_volume': 64761}, {'name': 'Allahu Akbar', 'url': 'http://twitter.com/search?q=%22Allahu+Akbar%22', 'promoted_content': None, 'query': '%22Allahu+Akbar%22', 'tweet_volume': 11567}, {'name': 'श्री महाकालेश्वर', 'url': 'http://twitter.com/search?q=%22%E0%A4%B6%E0%A5%8D%E0%A4%B0%E0%A5%80+%E0%A4%AE%E0%A4%B9%E0%A4%BE%E0%A4%95%E0%A4%BE%E0%A4%B2%E0%A5%87%E0%A4%B6%E0%A5%8D%E0%A4%B5%E0%A4%B0%22', 'promoted_content': None, 'query': '%22%E0%A4%B6%E0%A5%8D%E0%A4%B0%E0%A5%80+%E0%A4%AE%E0%A4%B9%E0%A4%BE%E0%A4%95%E0%A4%BE%E0%A4%B2%E0%A5%87%E0%A4%B6%E0%A5%8D%E0%A4%B5%E0%A4%B0%22', 'tweet_volume': None}, {'name': 'भारत रत्न', 'url': 'http://twitter.com/search?q=%22%E0%A4%AD%E0%A4%BE%E0%A4%B0%E0%A4%A4+%E0%A4%B0%E0%A4%A4%E0%A5%8D%E0%A4%A8%22', 'promoted_content': None, 'query': '%22%E0%A4%AD%E0%A4%BE%E0%A4%B0%E0%A4%A4+%E0%A4%B0%E0%A4%A4%E0%A5%8D%E0%A4%A8%22', 'tweet_volume': 19427}, {'name': 'Ashwin', 'url': 'http://twitter.com/search?q=Ashwin', 'promoted_content': None, 'query': 'Ashwin', 'tweet_volume': 15669}, {'name': 'SURIYAISM FOREVER', 'url': 'http://twitter.com/search?q=%22SURIYAISM+FOREVER%22', 'promoted_content': None, 'query': '%22SURIYAISM+FOREVER%22', 'tweet_volume': 274557}, {'name': 'श्री कृष्णा', 'url': 'http://twitter.com/search?q=%22%E0%A4%B6%E0%A5%8D%E0%A4%B0%E0%A5%80+%E0%A4%95%E0%A5%83%E0%A4%B7%E0%A5%8D%E0%A4%A3%E0%A4%BE%22', 'promoted_content': None, 'query': '%22%E0%A4%B6%E0%A5%8D%E0%A4%B0%E0%A5%80+%E0%A4%95%E0%A5%83%E0%A4%B7%E0%A5%8D%E0%A4%A3%E0%A4%BE%22', 'tweet_volume': 10714}, {'name': 'Taliban', 'url': 'http://twitter.com/search?q=Taliban', 'promoted_content': None, 'query': 'Taliban', 'tweet_volume': 523002}, {'name': 'Om Namah Shivay', 'url': 'http://twitter.com/search?q=%22Om+Namah+Shivay%22', 'promoted_content': None, 'query': '%22Om+Namah+Shivay%22', 'tweet_volume': None}, {'name': 'CM Punk', 'url': 'http://twitter.com/search?q=%22CM+Punk%22', 'promoted_content': None, 'query': '%22CM+Punk%22', 'tweet_volume': 42995}, {'name': 'Suprabhat', 'url': 'http://twitter.com/search?q=Suprabhat', 'promoted_content': None, 'query': 'Suprabhat', 'tweet_volume': None}, {'name': 'शिव शंकर', 'url': 'http://twitter.com/search?q=%22%E0%A4%B6%E0%A4%BF%E0%A4%B5+%E0%A4%B6%E0%A4%82%E0%A4%95%E0%A4%B0%22', 'promoted_content': None, 'query': '%22%E0%A4%B6%E0%A4%BF%E0%A4%B5+%E0%A4%B6%E0%A4%82%E0%A4%95%E0%A4%B0%22', 'tweet_volume': None}, {'name': 'Jake', 'url': 'http://twitter.com/search?q=Jake', 'promoted_content': None, 'query': 'Jake', 'tweet_volume': 255486}, {'name': 'Singh Ji Insan', 'url': 'http://twitter.com/search?q=%22Singh+Ji+Insan%22', 'promoted_content': None, 'query': '%22Singh+Ji+Insan%22', 'tweet_volume': 25262}, {'name': 'ICICI Lombard', 'url': 'http://twitter.com/search?q=%22ICICI+Lombard%22', 'promoted_content': None, 'query': '%22ICICI+Lombard%22', 'tweet_volume': None}, {'name': 'Ganesh Chaturthi', 'url': 'http://twitter.com/search?q=%22Ganesh+Chaturthi%22', 'promoted_content': None, 'query': '%22Ganesh+Chaturthi%22', 'tweet_volume': None}, {'name': 'mark twain', 'url': 'http://twitter.com/search?q=%22mark+twain%22', 'promoted_content': None, 'query': '%22mark+twain%22', 'tweet_volume': None}, {'name': 'Most Voted Artist', 'url': 'http://twitter.com/search?q=%22Most+Voted+Artist%22', 'promoted_content': None, 'query': '%22Most+Voted+Artist%22', 'tweet_volume': 46547}, {'name': 'Black Swan', 'url': 'http://twitter.com/search?q=%22Black+Swan%22', 'promoted_content': None, 'query': '%22Black+Swan%22', 'tweet_volume': None}], 'as_of': '2021-09-06T04:49:35Z', 'created_at': '2021-08-09T05:31:25Z', 'locations': [{'name': 'India', 'woeid': 23424848}]}\n"
     ]
    }
   ],
   "source": [
    "import tweepy\n",
    "access_token=\"1397178062647693321-98deqStu35EJo7hsSE9PM7rf6sVaZZ\"\n",
    "access_token_secret=\"lLg9liDgsuOa3Us1Y3GeBefZRecEzwUUxnrq3FTMHOdJ1\"\n",
    "api_key=\"dSz5TgR3oRR0aAcx8sLg1dWJ7\"\n",
    "api_key_secret=\"B7RaKQA14bRVp9yViQrQNhHU7cZQP7cyhJdRffnt7TPWHdYtue\"\n",
    "auth=tweepy.OAuthHandler(consumer_key=api_key,consumer_secret=api_key_secret)\n",
    "auth.set_access_token(access_token,access_token_secret)\n",
    "api=tweepy.API(auth)\n",
    "print(api)\n",
    "named=[]\n",
    "volumed=[]\n",
    "\n",
    "\n",
    "woeid = 23424848\n",
    "Trends = api.trends_place(woeid)\n",
    "\n",
    "for value in Trends:\n",
    "    print(value)\n"
   ]
  },
  {
   "cell_type": "code",
   "execution_count": null,
   "id": "60fb588c",
   "metadata": {},
   "outputs": [],
   "source": []
  },
  {
   "cell_type": "code",
   "execution_count": null,
   "id": "ae5b9cc6",
   "metadata": {},
   "outputs": [],
   "source": []
  },
  {
   "cell_type": "code",
   "execution_count": 12,
   "id": "9cd5391a",
   "metadata": {},
   "outputs": [
    {
     "data": {
      "text/html": [
       "\n",
       "            <div>\n",
       "                <p><b>SparkSession - in-memory</b></p>\n",
       "                \n",
       "        <div>\n",
       "            <p><b>SparkContext</b></p>\n",
       "\n",
       "            <p><a href=\"http://LAPTOP-TKT03F6J:4041\">Spark UI</a></p>\n",
       "\n",
       "            <dl>\n",
       "              <dt>Version</dt>\n",
       "                <dd><code>v3.1.2</code></dd>\n",
       "              <dt>Master</dt>\n",
       "                <dd><code>local[*]</code></dd>\n",
       "              <dt>AppName</dt>\n",
       "                <dd><code>pyspark-shell</code></dd>\n",
       "            </dl>\n",
       "        </div>\n",
       "        \n",
       "            </div>\n",
       "        "
      ],
      "text/plain": [
       "<pyspark.sql.session.SparkSession at 0x21cbf2e6310>"
      ]
     },
     "execution_count": 12,
     "metadata": {},
     "output_type": "execute_result"
    }
   ],
   "source": [
    "import pyspark\n",
    "from pyspark import SparkContext\n",
    "sc = SparkContext.getOrCreate();\n",
    "import findspark\n",
    "findspark.init()\n",
    "from pyspark.sql import SparkSession\n",
    "spark = SparkSession.builder.master(\"local[*]\").getOrCreate()\n",
    "spark.conf.set(\"spark.sql.repl.eagerEval.enabled\", True) # Property used to format output tables better\n",
    "spark"
   ]
  },
  {
   "cell_type": "code",
   "execution_count": null,
   "id": "9672822b",
   "metadata": {},
   "outputs": [],
   "source": []
  },
  {
   "cell_type": "code",
   "execution_count": null,
   "id": "31d93a6a",
   "metadata": {},
   "outputs": [],
   "source": []
  },
  {
   "cell_type": "code",
   "execution_count": null,
   "id": "2b3f7a66",
   "metadata": {},
   "outputs": [],
   "source": []
  },
  {
   "cell_type": "code",
   "execution_count": null,
   "id": "67abfa4c",
   "metadata": {},
   "outputs": [],
   "source": []
  }
 ],
 "metadata": {
  "kernelspec": {
   "display_name": "Python 3",
   "language": "python",
   "name": "python3"
  },
  "language_info": {
   "codemirror_mode": {
    "name": "ipython",
    "version": 3
   },
   "file_extension": ".py",
   "mimetype": "text/x-python",
   "name": "python",
   "nbconvert_exporter": "python",
   "pygments_lexer": "ipython3",
   "version": "3.8.8"
  }
 },
 "nbformat": 4,
 "nbformat_minor": 5
}
